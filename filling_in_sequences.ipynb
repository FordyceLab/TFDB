{
 "cells": [
  {
   "cell_type": "code",
   "execution_count": 4,
   "metadata": {
    "collapsed": false
   },
   "outputs": [],
   "source": [
    "from sqlalchemy import MetaData\n",
    "from sqlalchemy import create_engine\n",
    "from sqlalchemy.ext.declarative import declarative_base\n",
    "import sys\n",
    "import json\n",
    "from DB_setup import Protein_sequence, DBD, Experiment, PFM, TF_info, Base, DBD_TF_Maps\n",
    "from sqlalchemy.orm import sessionmaker\n",
    "\n",
    "\n",
    "#setting up database directory, database will be named tf.db for now\n",
    "db_directory = 'C:\\\\Users\\\\Alex\\\\Documents\\\\fordyce_rotation\\\\tf.db'\n",
    "\n",
    "#setting up engine to connect to the database, using sqlite\n",
    "engine = create_engine('sqlite:///'+db_directory)\n",
    "conn = engine.connect()\n",
    "meta = MetaData()\n",
    "meta.reflect(engine)\n",
    "\n",
    "query = '''select * \n",
    "from protein_sequences \n",
    "inner join protein_information\n",
    "on pid = tf_id\n",
    "where protein_sequences.sequence isnull'''\n",
    "\n",
    "pid_to_uniprot = {}\n",
    "results = conn.execute(query)\n",
    "for result in results: \n",
    "    pid_to_uniprot[result['pid']] = result['uniprot']"
   ]
  },
  {
   "cell_type": "code",
   "execution_count": 5,
   "metadata": {
    "collapsed": false
   },
   "outputs": [
    {
     "name": "stdout",
     "output_type": "stream",
     "text": [
      "{1153: '', 1155: '', 1159: '', 1160: '', 1161: '', 1162: '', 1163: '', 1186: '', 1202: '', 1223: '', 1291: '', 1293: '', 1294: '', 1328: '', 1329: '', 1330: '', 1339: '', 1341: '', 1348: '', 1356: '', 1357: '', 1358: '', 1359: '', 1362: '', 1377: '', 1379: '', 1380: '', 1381: '', 1386: ''}\n"
     ]
    }
   ],
   "source": [
    "print(pid_to_uniprot)"
   ]
  },
  {
   "cell_type": "code",
   "execution_count": null,
   "metadata": {
    "collapsed": false
   },
   "outputs": [],
   "source": [
    "for prot, uni in pid_to_uniprot.items():\n",
    "    if 'F1NSH4' in uni:\n",
    "        uni = 'A0A1D5NT38'\n",
    "    elif 'G66GR3' in uni:\n",
    "        uni = 'Q66GR3'\n",
    "    good_uni = uni.strip().upper()\n",
    "    q = '''UPDATE protein_information\n",
    "SET uniprot = \\'%s\\'\n",
    "WHERE tf_id = %s;''' % (good_uni, prot)\n",
    "    pid_to_uniprot[prot] = good_uni\n",
    "    \n",
    "    conn.execute(q)"
   ]
  },
  {
   "cell_type": "code",
   "execution_count": null,
   "metadata": {
    "collapsed": false
   },
   "outputs": [],
   "source": [
    "from uniprot_domains_sequences import get_sequences\n",
    "searchable = []\n",
    "for prot, uni in pid_to_uniprot.items():\n",
    "    if uni:\n",
    "        searchable.append(uni)\n",
    "uniprot_seq = get_sequences(searchable, len(searchable))[0]"
   ]
  },
  {
   "cell_type": "code",
   "execution_count": null,
   "metadata": {
    "collapsed": true
   },
   "outputs": [],
   "source": [
    "pid_to_seq = {}\n",
    "for prot,uni in pid_to_uniprot.items():\n",
    "    if uni in uniprot_seq:\n",
    "        pid_to_seq[prot] = uniprot_seq[uni]"
   ]
  },
  {
   "cell_type": "code",
   "execution_count": null,
   "metadata": {
    "collapsed": false
   },
   "outputs": [],
   "source": [
    "print(pid_to_seq)"
   ]
  },
  {
   "cell_type": "code",
   "execution_count": null,
   "metadata": {
    "collapsed": false
   },
   "outputs": [],
   "source": [
    "query2 = '''UPDATE protein_sequences\n",
    "SET sequence = %s\n",
    "WHERE pid = %s;'''\n",
    "\n",
    "for pid, seq in pid_to_seq.items(): \n",
    "    query2 = '''UPDATE protein_sequences\n",
    "SET sequence = \\'%s\\'\n",
    "WHERE pid = %s;''' %(seq, pid)\n",
    "    conn.execute(query2)\n",
    "    "
   ]
  },
  {
   "cell_type": "code",
   "execution_count": null,
   "metadata": {
    "collapsed": true
   },
   "outputs": [],
   "source": []
  }
 ],
 "metadata": {
  "kernelspec": {
   "display_name": "Python 3",
   "language": "python",
   "name": "python3"
  },
  "language_info": {
   "codemirror_mode": {
    "name": "ipython",
    "version": 3
   },
   "file_extension": ".py",
   "mimetype": "text/x-python",
   "name": "python",
   "nbconvert_exporter": "python",
   "pygments_lexer": "ipython3",
   "version": "3.6.0"
  }
 },
 "nbformat": 4,
 "nbformat_minor": 2
}
