{
 "cells": [
  {
   "cell_type": "code",
   "execution_count": 1,
   "metadata": {
    "collapsed": true
   },
   "outputs": [],
   "source": [
    "from sqlalchemy import MetaData\n",
    "from sqlalchemy import create_engine\n",
    "from sqlalchemy.ext.declarative import declarative_base\n",
    "import sys\n",
    "import json\n",
    "from DB_setup import Protein_sequence, DBD, Experiment, PFM, TF_info, Base, DBD_TF_Maps\n",
    "from sqlalchemy.orm import sessionmaker\n",
    "\n",
    "\n",
    "#setting up database directory, database will be named tf.db for now\n",
    "db_directory = 'C:\\\\Users\\\\Alex\\\\Documents\\\\fordyce_rotation\\\\tf.db'\n",
    "\n",
    "#setting up engine to connect to the database, using sqlite\n",
    "engine = create_engine('sqlite:///'+db_directory)\n",
    "conn = engine.connect()\n",
    "meta = MetaData()\n",
    "meta.reflect(engine)\n",
    "\n",
    "query = '''select protein_name, tf_id, uniprot, species\n",
    "from protein_information\n",
    "inner join protein_sequences\n",
    "on tf_id = pid\n",
    "where uniprot = \\'\\''''\n",
    "\n",
    "results = conn.execute(query)\n",
    "\n"
   ]
  },
  {
   "cell_type": "code",
   "execution_count": 2,
   "metadata": {
    "collapsed": false
   },
   "outputs": [
    {
     "name": "stdout",
     "output_type": "stream",
     "text": [
      "TFE3\n",
      "At1g49010\n",
      "At3g11280\n",
      "At5g58900\n",
      "At2g38090\n",
      "AT3G10580\n",
      "AT5G56840\n",
      "At5g05790\n",
      "CEJ1\n",
      "ESE3\n",
      "DREB2\n",
      "ATHB23\n",
      "ATHB25\n",
      "ATHB24\n",
      "AT5G47660\n",
      "AT1G76880\n",
      "AT1G76870\n",
      "DEAR3\n",
      "PLT3\n",
      "AT2G40260\n",
      "MYB70\n",
      "MYB73\n",
      "MYB77\n",
      "At1g74840\n",
      "At1g19000\n",
      "FaEOBII\n",
      "StBRC1\n",
      "TSAR1\n",
      "TSAR2\n",
      "UIF1\n",
      "RAMOSA1\n"
     ]
    }
   ],
   "source": [
    "from search_uniprot_ids import get_uniprot_id\n",
    "id_to_uniprot = {}\n",
    "for result in results:\n",
    "    prot = result['tf_id']\n",
    "    print(result['protein_name'])\n",
    "    uniprot = (get_uniprot_id(result['protein_name'],result['species']))\n",
    "    id_to_uniprot[prot] = uniprot"
   ]
  },
  {
   "cell_type": "code",
   "execution_count": 3,
   "metadata": {
    "collapsed": false
   },
   "outputs": [
    {
     "name": "stdout",
     "output_type": "stream",
     "text": [
      "{1120: 'P19532', 1153: 'A0A178W7W9', 1155: 'Q9C773', 1159: 'Q9FIL9', 1160: 'Q8GXN7', 1161: 'Q9SQY8', 1162: 'Q9FJS9', 1163: 'Q9FFJ9', 1186: None, 1202: 'A0A178UBV4', 1223: 'A8MSB1', 1291: 'Q8LFD3', 1293: 'Q9FKP8', 1294: 'Q9ZPW7', 1328: 'Q9FGJ1', 1329: 'Q9C6K3', 1330: 'Q9C6K4', 1339: 'A0A178VP80', 1341: 'Q9ZNS0', 1348: 'Q9SIZ5', 1356: 'O22179', 1357: 'O23160', 1358: 'Q9SN12', 1359: 'Q9S7N6', 1362: 'A0A178W7F0', 1377: None, 1379: None, 1380: 'G7KSG4', 1381: 'A0A072UWR1', 1382: 'F4JRB0', 1386: 'Q4U4A8'}\n"
     ]
    }
   ],
   "source": [
    "print (id_to_uniprot)"
   ]
  },
  {
   "cell_type": "code",
   "execution_count": 4,
   "metadata": {
    "collapsed": true
   },
   "outputs": [],
   "source": [
    "for prot, uid in id_to_uniprot.items():\n",
    "    query = '''update protein_information\n",
    "    set uniprot = \\'%s\\'\n",
    "    where tf_id = %s''' % (uid, prot)\n",
    "    conn.execute(query)"
   ]
  },
  {
   "cell_type": "code",
   "execution_count": null,
   "metadata": {
    "collapsed": true
   },
   "outputs": [],
   "source": []
  }
 ],
 "metadata": {
  "kernelspec": {
   "display_name": "Python 3",
   "language": "python",
   "name": "python3"
  },
  "language_info": {
   "codemirror_mode": {
    "name": "ipython",
    "version": 3
   },
   "file_extension": ".py",
   "mimetype": "text/x-python",
   "name": "python",
   "nbconvert_exporter": "python",
   "pygments_lexer": "ipython3",
   "version": "3.6.0"
  }
 },
 "nbformat": 4,
 "nbformat_minor": 2
}
