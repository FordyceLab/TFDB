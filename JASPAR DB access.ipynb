{
 "cells": [
  {
   "cell_type": "markdown",
   "metadata": {},
   "source": [
    "# JASPAR DB PARSING"
   ]
  },
  {
   "cell_type": "markdown",
   "metadata": {},
   "source": [
    "-Jaspar SQL Dump was downloaded from http://jaspar.genereg.net/downloads/ .\n",
    "\n",
    "-Built the database on my computer using HeidiSQL (MySQL style DB)\n",
    "\n",
    "-Used PyMySQL and Biopython to access my local copy of the database and pull relevant information, which I compiled into a dictionary.\n",
    "\n",
    "-Saved this dictionary as a JSON file for future use.\n"
   ]
  },
  {
   "cell_type": "code",
   "execution_count": null,
   "metadata": {
    "collapsed": false
   },
   "outputs": [],
   "source": [
    "import sys\n",
    "!{sys.executable} -m pip install mysqlclient pymysql\n",
    "!{sys.executable} -m pip install beautifulsoup4\n",
    "#anaconda is too good"
   ]
  },
  {
   "cell_type": "code",
   "execution_count": null,
   "metadata": {
    "collapsed": false
   },
   "outputs": [],
   "source": [
    "from Bio.motifs.jaspar.db import JASPAR5\n",
    "\n",
    "JASPAR_DB_HOST = \"127.0.0.1\" #provided it's on your computer\n",
    "JASPAR_DB_NAME = 'jaspar'\n",
    "JASPAR_DB_USER = \"root\" \n",
    "JASPAR_DB_PASS = 'tomato1393'\n",
    "jdb = JASPAR5(\n",
    "     host=JASPAR_DB_HOST,\n",
    "     name=JASPAR_DB_NAME,\n",
    "     user=JASPAR_DB_USER,\n",
    "     password=JASPAR_DB_PASS\n",
    ")\n",
    "\n",
    "motifs=jdb.fetch_motifs()"
   ]
  },
  {
   "cell_type": "markdown",
   "metadata": {},
   "source": [
    "-Creating the dictionary below, the format is:\n",
    "{protein_name: {'class':class,'family':family,'species':species,'acc' = UniProt ID(s),'pubmed':reference, 'motif': motif in pfm format}\n",
    "Thus, each protein has a dictionary containing its attributes as its value, and the proteins are keys in the overall dictionary."
   ]
  },
  {
   "cell_type": "code",
   "execution_count": null,
   "metadata": {
    "collapsed": false
   },
   "outputs": [],
   "source": [
    "jaspardict = {}\n",
    "\n",
    "for motif in motifs:\n",
    "    jaspardict[motif.name]={'class':motif.tf_class,'family':motif.tf_family,'species':motif.species, 'acc':motif.acc,'pubmed':motif.medline, 'motif':motif.format(\"pfm\")}\n",
    "\n"
   ]
  },
  {
   "cell_type": "markdown",
   "metadata": {},
   "source": [
    "-The biopython package gives uniprot taxonomical IDs instead of species names, so for future use I'm adding in the species name as a value to the species key for each tf (but keeping the taxonomical id). The code in the cell below searches the taxonomical id on uniprot and gets the title of the page, which is the species name."
   ]
  },
  {
   "cell_type": "code",
   "execution_count": null,
   "metadata": {
    "collapsed": false
   },
   "outputs": [],
   "source": [
    "import sys,requests\n",
    "from bs4 import BeautifulSoup as soup\n",
    "\n",
    "query_start = 'https://www.uniprot.org/taxonomy/'\n",
    "species_ids = []\n",
    "for tf in jaspardict.values():\n",
    "    if tf['species']:\n",
    "        spec_id = tf['species'][0]\n",
    "    if spec_id not in species_ids:\n",
    "        species_ids.append(spec_id)\n",
    "id_to_species = {}\n",
    "for spec_id in species_ids:\n",
    "    r = requests.get(query_start+spec_id+\"/\")\n",
    "    s = soup(r.text,'html.parser')\n",
    "    s.prettify()\n",
    "    id_to_species[spec_id]=s.title.string\n",
    "print (id_to_species)\n",
    "        \n"
   ]
  },
  {
   "cell_type": "code",
   "execution_count": null,
   "metadata": {
    "collapsed": false
   },
   "outputs": [],
   "source": [
    "for tf in jaspardict.values():\n",
    "    if tf['species']:\n",
    "        tf['species'] = str(tf['species'])+\" \"+id_to_species[tf['species'][0]]\n"
   ]
  },
  {
   "cell_type": "markdown",
   "metadata": {},
   "source": [
    "Below is the code to extract the coordinates of the DNA binding domains for each of the tfs from uniprot, which is complicated by the fact that this information is stored in two different places on the web page for the protein, and also that several of the dna binding domain names are labelled in a few different ways (eg. HTH, Helix-turn-helix, H-T-H). However, the cell below will extract the DNA binding domains for almost all tfs which have annotated DBDs in uniprot (1198/1392). Might go into pfam at some point to get the rest if possible. The cell below will take ~45 min to run. "
   ]
  },
  {
   "cell_type": "code",
   "execution_count": null,
   "metadata": {
    "collapsed": false
   },
   "outputs": [],
   "source": [
    "import re\n",
    "import lxml\n",
    "query_start = 'http://www.uniprot.org/uniprot/'\n",
    "query_end  = '#family_and_domains'\n",
    "domain_names = re.compile('bHLH|bZIP|Homeo|HTH|WH|wHTH|HMG|MADS|BZIP|Helix|Leucine|OB|Wor3|Dof|RHD|C2H2|H15|Paired|ETS|GATA|ARID|Zinc$|DNA$|DNA-binding|TCP|H-T-H|')\n",
    "n = re.compile('DNA binding|Zinc')\n",
    "count = 0\n",
    "for tf in jaspardict.values():\n",
    "    tf['domain']=[]\n",
    "    if tf['acc']:\n",
    "        uniprot_id = tf['acc'][0]\n",
    "        r = requests.get(query_start+uniprot_id.rstrip())\n",
    "        if r.status_code == 200:\n",
    "            try:\n",
    "                s = soup(r.text, 'html.parser')\n",
    "                s.prettify()\n",
    "                fam_domain = s.find(id='domainsAnno_section')\n",
    "                region = s.find(id='regionAnno_section')\n",
    "                if region:\n",
    "                    x = region.find_all('td')\n",
    "                    for i,t in enumerate(x):\n",
    "                        if re.search(n,str(t.span)):\n",
    "                            tf['domain'].append(str(x[i+1].text))\n",
    "                if fam_domain:\n",
    "                    if not tf['domain']:\n",
    "                        x= fam_domain.find_all('td')\n",
    "                        for i,t in enumerate(x):\n",
    "                            if len(t.attrs):\n",
    "                                if 'featdescription' in t['class']:\n",
    "                                    if re.search(domain_names,t.span.text):\n",
    "                                        tf['domain'].append(str(x[i-1].text))\n",
    "            except:\n",
    "                continue\n"
   ]
  },
  {
   "cell_type": "markdown",
   "metadata": {},
   "source": [
    "Download the uniprot fasta dump from http://www.uniprot.org/downloads. The code below builds a dictionary mapping the uniprot protein ID to its sequence."
   ]
  },
  {
   "cell_type": "code",
   "execution_count": null,
   "metadata": {
    "collapsed": false
   },
   "outputs": [],
   "source": [
    "from Bio import SeqIO\n",
    "seqdict = {}\n",
    "with open('uniprot_sprot.fasta/uniprot_sprot.fasta','r') as seqs:\n",
    "    for seq in SeqIO.parse(seqs, \"fasta\"):\n",
    "        seqdict[seq.id.split('|')[1]] =str(seq.seq)"
   ]
  },
  {
   "cell_type": "markdown",
   "metadata": {},
   "source": [
    "The code below adds the DNA binding domains to the domains key for each protein."
   ]
  },
  {
   "cell_type": "code",
   "execution_count": null,
   "metadata": {
    "collapsed": false
   },
   "outputs": [],
   "source": [
    "for tf in jaspardict.values():\n",
    "    if tf['acc']:\n",
    "        accession= tf['acc'][0]\n",
    "        if accession in seqdict:\n",
    "            if tf['domain']:\n",
    "                tf['domains'] = []\n",
    "                for j in tf['domain']:\n",
    "                    indices = re.findall('[0-9]+',str(j))\n",
    "                    if len(indices)==2:\n",
    "                        dbd = seqdict[accession][int(indices[0])-1:int(indices[1])]\n",
    "                        tf['domains'] = tf['domains']+[dbd]\n"
   ]
  },
  {
   "cell_type": "markdown",
   "metadata": {},
   "source": [
    "Count of TFs without DBDs"
   ]
  },
  {
   "cell_type": "code",
   "execution_count": null,
   "metadata": {
    "collapsed": false
   },
   "outputs": [],
   "source": [
    "count = 0\n",
    "for tf in jaspardict.values():\n",
    "    if tf['acc'] and not tf['domain']:\n",
    "        print (tf['acc'])\n",
    "        count+=1\n",
    "print(count)"
   ]
  },
  {
   "cell_type": "markdown",
   "metadata": {},
   "source": [
    "Remove domain key"
   ]
  },
  {
   "cell_type": "code",
   "execution_count": null,
   "metadata": {
    "collapsed": false
   },
   "outputs": [],
   "source": [
    "for tf in jaspardict.values():\n",
    "    del tf['domain']\n",
    "    "
   ]
  },
  {
   "cell_type": "markdown",
   "metadata": {},
   "source": [
    "Add empty list to domains key for tfs without DBD so I don't get KeyErrors"
   ]
  },
  {
   "cell_type": "code",
   "execution_count": null,
   "metadata": {
    "collapsed": false
   },
   "outputs": [],
   "source": [
    "for tf in jaspardict.values():\n",
    "    if 'domains'  not in tf\n",
    "        tf['domains']=[]\n"
   ]
  },
  {
   "cell_type": "markdown",
   "metadata": {},
   "source": [
    "Dumps the jaspar dictionary to a json file. Optionally will also dump the uniprot dictionary, for future fast look up."
   ]
  },
  {
   "cell_type": "code",
   "execution_count": null,
   "metadata": {
    "collapsed": false
   },
   "outputs": [],
   "source": [
    "import json\n",
    "j=json.dumps(jaspardict, indent =4)\n",
    "with open('jaspar.json','w') as f:\n",
    "    print(j, file = f)\n",
    "#with open('uniprot.json','w') as u:\n",
    "#    print(seqdict, file = u)"
   ]
  }
 ],
 "metadata": {
  "kernelspec": {
   "display_name": "Python 3",
   "language": "python",
   "name": "python3"
  },
  "language_info": {
   "codemirror_mode": {
    "name": "ipython",
    "version": 3
   },
   "file_extension": ".py",
   "mimetype": "text/x-python",
   "name": "python",
   "nbconvert_exporter": "python",
   "pygments_lexer": "ipython3",
   "version": "3.6.0"
  }
 },
 "nbformat": 4,
 "nbformat_minor": 2
}
