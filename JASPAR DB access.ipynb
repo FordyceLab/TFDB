{
 "cells": [
  {
   "cell_type": "markdown",
   "metadata": {},
   "source": [
    "# JASPAR DB PARSING"
   ]
  },
  {
   "cell_type": "markdown",
   "metadata": {},
   "source": [
    "-Jaspar SQL Dump was downloaded from http://jaspar.genereg.net/downloads/ .\n",
    "\n",
    "-Built the database on my computer using HeidiSQL (MySQL style DB)\n",
    "\n",
    "-Used PyMySQL and Biopython to access my local copy of the database and pull relevant information, which I compiled into a dictionary.\n",
    "\n",
    "-Saved this dictionary as a JSON file for future use.\n"
   ]
  },
  {
   "cell_type": "code",
   "execution_count": null,
   "metadata": {
    "collapsed": false
   },
   "outputs": [],
   "source": [
    "import sys\n",
    "!{sys.executable} -m pip install mysqlclient pymysql\n",
    "#anaconda is too good"
   ]
  },
  {
   "cell_type": "code",
   "execution_count": null,
   "metadata": {
    "collapsed": false
   },
   "outputs": [],
   "source": [
    "from Bio.motifs.jaspar.db import JASPAR5\n",
    "\n",
    "JASPAR_DB_HOST = \"127.0.0.1\" #provided it's on your computer\n",
    "JASPAR_DB_NAME = DB_NAME\n",
    "JASPAR_DB_USER = \"root\" \n",
    "JASPAR_DB_PASS = DB_PASS\n",
    "jdb = JASPAR5(\n",
    "     host=JASPAR_DB_HOST,\n",
    "     name=JASPAR_DB_NAME,\n",
    "     user=JASPAR_DB_USER,\n",
    "     password=JASPAR_DB_PASS\n",
    ")\n",
    "\n",
    "motifs=jdb.fetch_motifs()"
   ]
  },
  {
   "cell_type": "markdown",
   "metadata": {},
   "source": [
    "-Creating the dictionary below, the format is:\n",
    "{protein_name: {'class':class,'family':family,'species':species,'acc' = UniProt ID(s),'pubmed':reference, 'motif': motif in pfm format}\n",
    "Thus, each protein has a dictionary containing its attributes as its value, and the proteins are keys in the overall dictionary."
   ]
  },
  {
   "cell_type": "code",
   "execution_count": null,
   "metadata": {
    "collapsed": false
   },
   "outputs": [],
   "source": [
    "jaspardict = {}\n",
    "\n",
    "for motif in motifs:\n",
    "    jaspardict[motif.name]={'class':motif.tf_class,'family':motif.tf_family,'species':motif.species, 'acc':motif.acc,'pubmed':motif.medline, 'motif':motif.format(\"pfm\")}\n",
    "\n"
   ]
  },
  {
   "cell_type": "code",
   "execution_count": null,
   "metadata": {
    "collapsed": false
   },
   "outputs": [],
   "source": [
    "import pprint\n",
    "pprint.pprint(jaspardict)\n"
   ]
  },
  {
   "cell_type": "code",
   "execution_count": null,
   "metadata": {
    "collapsed": false
   },
   "outputs": [],
   "source": [
    "!{sys.executable} -m pip install beautifulsoup4"
   ]
  },
  {
   "cell_type": "markdown",
   "metadata": {},
   "source": [
    "-The biopython package gives uniprot taxonomical IDs instead of species names, so for future use I'm adding in the species name to the species key for each tf."
   ]
  },
  {
   "cell_type": "code",
   "execution_count": null,
   "metadata": {
    "collapsed": false
   },
   "outputs": [],
   "source": [
    "import sys,requests\n",
    "from bs4 import BeautifulSoup as soup\n",
    "\n",
    "query_start = 'https://www.uniprot.org/taxonomy/'\n",
    "species_ids = []\n",
    "for tf in jaspardict.values():\n",
    "    if tf['species']:\n",
    "        spec_id = tf['species'][0]\n",
    "    if spec_id not in species_ids:\n",
    "        species_ids.append(spec_id)\n",
    "id_to_species = {}\n",
    "for spec_id in species_ids:\n",
    "    r = requests.get(query_start+spec_id+\"/\")\n",
    "    s = soup(r.text,'html.parser')\n",
    "    s.prettify()\n",
    "    id_to_species[spec_id]=s.title.string\n",
    "print (id_to_species)\n",
    "        \n"
   ]
  },
  {
   "cell_type": "code",
   "execution_count": null,
   "metadata": {
    "collapsed": false
   },
   "outputs": [],
   "source": [
    "for tf in jaspardict.values():\n",
    "    if tf['species']:\n",
    "        tf['species'] = str(tf['species'])+\" \"+id_to_species[tf['species'][0]]\n"
   ]
  },
  {
   "cell_type": "code",
   "execution_count": null,
   "metadata": {
    "collapsed": false
   },
   "outputs": [],
   "source": [
    "pprint.pprint(jaspardict)"
   ]
  },
  {
   "cell_type": "code",
   "execution_count": null,
   "metadata": {
    "collapsed": true
   },
   "outputs": [],
   "source": [
    "import json\n",
    "h = json.dumps(jaspardict)\n",
    "f= open('jaspar_final.json','w')\n",
    "f.write(h)\n",
    "f.close()"
   ]
  }
 ],
 "metadata": {
  "kernelspec": {
   "display_name": "Python 3",
   "language": "python",
   "name": "python3"
  },
  "language_info": {
   "codemirror_mode": {
    "name": "ipython",
    "version": 3
   },
   "file_extension": ".py",
   "mimetype": "text/x-python",
   "name": "python",
   "nbconvert_exporter": "python",
   "pygments_lexer": "ipython3",
   "version": "3.6.0"
  }
 },
 "nbformat": 4,
 "nbformat_minor": 2
}
