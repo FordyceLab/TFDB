{
 "cells": [
  {
   "cell_type": "code",
   "execution_count": 8,
   "metadata": {
    "collapsed": false
   },
   "outputs": [],
   "source": [
    "import json\n",
    "with open('uniprobe_almost_done_almost.json', 'r') as un:\n",
    "    unidict = json.loads(un.read())\n",
    "with open('uniprobe_pubmed_ids.json','r') as pm:\n",
    "    pubmed = json.loads(pm.read())"
   ]
  },
  {
   "cell_type": "code",
   "execution_count": 13,
   "metadata": {
    "collapsed": false
   },
   "outputs": [
    {
     "name": "stdout",
     "output_type": "stream",
     "text": [
      "dict_keys(['5', '6', '7', '8', '9', '10', '0', '2', '1', '3', '4', '11', '12', '13', '14', '15', '16', '18', '17', '19', '20', '21', '22', '23', '25', '26', '36', '30', '32', '33', '34', '37', '35'])\n"
     ]
    }
   ],
   "source": [
    "print (pubmed.keys())\n",
    "for tf in unidict.values():\n",
    "    tf['pubmed'] = pubmed[str(tf['pubid'])]\n",
    "    "
   ]
  },
  {
   "cell_type": "code",
   "execution_count": 15,
   "metadata": {
    "collapsed": false
   },
   "outputs": [],
   "source": [
    "for tf in unidict.values():\n",
    "    del tf['pubid']"
   ]
  },
  {
   "cell_type": "code",
   "execution_count": 16,
   "metadata": {
    "collapsed": true
   },
   "outputs": [],
   "source": [
    "j = json.dumps(unidict)\n",
    "with open('uniprobe_final.json','w') as uniprobe:\n",
    "    print(unidict, file = uniprobe)"
   ]
  },
  {
   "cell_type": "code",
   "execution_count": null,
   "metadata": {
    "collapsed": true
   },
   "outputs": [],
   "source": []
  }
 ],
 "metadata": {
  "kernelspec": {
   "display_name": "Python 3",
   "language": "python",
   "name": "python3"
  },
  "language_info": {
   "codemirror_mode": {
    "name": "ipython",
    "version": 3
   },
   "file_extension": ".py",
   "mimetype": "text/x-python",
   "name": "python",
   "nbconvert_exporter": "python",
   "pygments_lexer": "ipython3",
   "version": "3.6.0"
  }
 },
 "nbformat": 4,
 "nbformat_minor": 2
}
